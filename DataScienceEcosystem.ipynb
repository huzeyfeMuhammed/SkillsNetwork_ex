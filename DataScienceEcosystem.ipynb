{
 "cells": [
  {
   "cell_type": "markdown",
   "id": "da83d053",
   "metadata": {},
   "source": [
    "# Data Science Tools and Ecosystem"
   ]
  },
  {
   "cell_type": "markdown",
   "id": "7485af8b",
   "metadata": {},
   "source": [
    "**In this notebook, Data Science Tools and Ecosystem are summarized.**"
   ]
  },
  {
   "cell_type": "markdown",
   "id": "a8c36ab1",
   "metadata": {},
   "source": [
    "**Objectives:**\n",
    "\n",
    "- List popular languages for Data Science.\n",
    "- Summarize common libraries used in Jupyter Notebook.\n",
    "- Discuss tools and environments commonly used in Data Science."
   ]
  },
  {
   "cell_type": "markdown",
   "id": "344643c3",
   "metadata": {},
   "source": [
    "Some commonly used data science libraries in Jupyter Notebook include:\n",
    "\n",
    "1. **NumPy**: Fundamental for scientific computing.\n",
    "2. **Pandas**: Data analysis and manipulation tool.\n",
    "3. **Matplotlib**: Visualization library.\n",
    "4. **Scikit-learn**: Machine learning algorithms.\n",
    "5. **Seaborn**: Statistical graphics.\n",
    "6. **TensorFlow**: Open-source ML framework.\n",
    "7. **Keras**: High-level neural networks API."
   ]
  },
  {
   "cell_type": "markdown",
   "id": "ec14e758",
   "metadata": {},
   "source": [
    "Some of the popular languages that Data Scientists use are:\n",
    "* Python\n",
    "* C#\n",
    "* Java\n",
    "* php"
   ]
  },
  {
   "cell_type": "markdown",
   "id": "aa89b7ad",
   "metadata": {},
   "source": [
    "| Data Science Tools |\n",
    "|--------------------|\n",
    "| Jupyter Notebook   |\n",
    "| RStudio            |\n",
    "| Spyder             |"
   ]
  },
  {
   "cell_type": "markdown",
   "id": "89c4ed36",
   "metadata": {},
   "source": [
    "### Below are a few examples of evaluating arithmetic expressions in Python."
   ]
  },
  {
   "cell_type": "code",
   "execution_count": 1,
   "id": "b84d82b5",
   "metadata": {},
   "outputs": [
    {
     "data": {
      "text/plain": [
       "17"
      ]
     },
     "execution_count": 1,
     "metadata": {},
     "output_type": "execute_result"
    }
   ],
   "source": [
    "# This is a simple arithmetic expression to multiply then add integers.\n",
    "result = (3 * 4) + 5\n",
    "result\n"
   ]
  },
  {
   "cell_type": "code",
   "execution_count": 2,
   "id": "d60c719b",
   "metadata": {},
   "outputs": [
    {
     "data": {
      "text/plain": [
       "3.3333333333333335"
      ]
     },
     "execution_count": 2,
     "metadata": {},
     "output_type": "execute_result"
    }
   ],
   "source": [
    "# This will convert 200 minutes to hours by dividing by 60.\n",
    "minutes = 200\n",
    "hours = minutes / 60\n",
    "hours\n"
   ]
  },
  {
   "cell_type": "markdown",
   "id": "10c7cf7b",
   "metadata": {},
   "source": [
    "**Objectives:**\n",
    "\n",
    "- List popular languages for Data Science.\n",
    "- Summarize common libraries used in Jupyter Notebook.\n",
    "- Discuss tools and environments commonly used in Data Science."
   ]
  },
  {
   "cell_type": "markdown",
   "id": "bb486f57",
   "metadata": {},
   "source": [
    "## Author\n",
    "\n",
    "Huzeyfe Muhammed\n"
   ]
  },
  {
   "cell_type": "code",
   "execution_count": null,
   "id": "6d7aadda",
   "metadata": {},
   "outputs": [],
   "source": []
  }
 ],
 "metadata": {
  "kernelspec": {
   "display_name": "Python 3 (ipykernel)",
   "language": "python",
   "name": "python3"
  },
  "language_info": {
   "codemirror_mode": {
    "name": "ipython",
    "version": 3
   },
   "file_extension": ".py",
   "mimetype": "text/x-python",
   "name": "python",
   "nbconvert_exporter": "python",
   "pygments_lexer": "ipython3",
   "version": "3.11.5"
  }
 },
 "nbformat": 4,
 "nbformat_minor": 5
}
